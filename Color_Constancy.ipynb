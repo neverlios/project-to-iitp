{
 "cells": [
  {
   "cell_type": "code",
   "execution_count": 1,
   "id": "363770d4",
   "metadata": {},
   "outputs": [],
   "source": [
    "#importing the libraries\n",
    "import os \n",
    "import cv2\n",
    "import numpy as np\n",
    "import matplotlib.pyplot as plt\n",
    "%matplotlib inline\n",
    "import pandas as pd\n",
    "import torch\n",
    "from torch import nn\n",
    "from torch.nn import functional as F\n",
    "import torchvision.transforms as tfs\n",
    "from numpy import dot\n",
    "from numpy.linalg import norm\n",
    "import math\n",
    "from torch.utils.data import TensorDataset, DataLoader\n",
    "import tensorflow as tf\n",
    "import keras\n",
    "from keras.layers import Input, Conv2D, Dense, concatenate, AveragePooling2D, UpSampling2D\n",
    "from keras import Model\n",
    "import math"
   ]
  },
  {
   "cell_type": "markdown",
   "id": "786ef841",
   "metadata": {},
   "source": [
    "# train в dataset "
   ]
  },
  {
   "cell_type": "code",
   "execution_count": 2,
   "id": "264fdc9c",
   "metadata": {
    "tags": []
   },
   "outputs": [],
   "source": [
    "#setting the path to the directory containing the pics\n",
    "path = 'C:\\\\Users\\\\79778\\\\SimpleCube++\\\\TRATEST\\\\TrainPng\\\\trainPNG'"
   ]
  },
  {
   "cell_type": "markdown",
   "id": "f2573933",
   "metadata": {},
   "source": [
    "training_data = []\n",
    "for img in os.listdir(path):\n",
    "    pic = cv2.imread(os.path.join(path,img), cv2.IMREAD_ANYCOLOR | cv2.IMREAD_ANYDEPTH)\n",
    "    pic = cv2.cvtColor(pic,cv2.COLOR_BGR2RGB)\n",
    "    pic = cv2.resize(pic,(648,432))\n",
    "    training_data.append([pic])\n",
    "np.save(os.path.join(path,'features'),np.array(training_data))\n"
   ]
  },
  {
   "cell_type": "code",
   "execution_count": 3,
   "id": "6422b31c",
   "metadata": {},
   "outputs": [
    {
     "name": "stdout",
     "output_type": "stream",
     "text": [
      "(1772, 1, 432, 648, 3)\n"
     ]
    }
   ],
   "source": [
    "saved = np.load(os.path.join(path,'features.npy'))\n",
    "print(saved.shape)\n",
    "saved = saved.reshape(1772,432, 648, 3)"
   ]
  },
  {
   "cell_type": "code",
   "execution_count": 4,
   "id": "4d56248a",
   "metadata": {},
   "outputs": [],
   "source": [
    "saved1=saved[0:500]\n"
   ]
  },
  {
   "cell_type": "code",
   "execution_count": 5,
   "id": "5da2026d",
   "metadata": {},
   "outputs": [],
   "source": [
    "saved1 = np.where(saved1 == [0,0,0], [2048,2048,2048], saved1)\n",
    "#при вычитании теневого тока из черного прямоугольника числа в uint перепрыгнут через 0, так что сначала\n",
    "#прибавим этот самый ток "
   ]
  },
  {
   "cell_type": "code",
   "execution_count": 6,
   "id": "e034c470",
   "metadata": {},
   "outputs": [],
   "source": [
    "saved2=saved[500:1000]\n",
    "saved2 = np.where(saved2 == [0,0,0], [2048,2048,2048], saved2)"
   ]
  },
  {
   "cell_type": "code",
   "execution_count": 7,
   "id": "61cfb9e2",
   "metadata": {},
   "outputs": [],
   "source": [
    "saved3=saved[1000:1500]\n",
    "saved3 = np.where(saved3 == [0,0,0], [2048,2048,2048], saved3)"
   ]
  },
  {
   "cell_type": "code",
   "execution_count": 8,
   "id": "2f293a6e",
   "metadata": {},
   "outputs": [],
   "source": [
    "saved4=saved[1500:]\n",
    "saved4 = np.where(saved4 == [0,0,0], [2048,2048,2048], saved4)"
   ]
  },
  {
   "cell_type": "code",
   "execution_count": 9,
   "id": "9e5c01d3",
   "metadata": {},
   "outputs": [],
   "source": [
    "reworked_saved=np.concatenate((saved1,saved2), axis=0)\n"
   ]
  },
  {
   "cell_type": "code",
   "execution_count": 10,
   "id": "47a5dc16",
   "metadata": {},
   "outputs": [],
   "source": [
    "reworked_saved=np.concatenate((reworked_saved,saved3), axis=0 )"
   ]
  },
  {
   "cell_type": "code",
   "execution_count": 11,
   "id": "352fdf98",
   "metadata": {},
   "outputs": [],
   "source": [
    "reworked_saved=np.concatenate((reworked_saved,saved4), axis=0)"
   ]
  },
  {
   "cell_type": "code",
   "execution_count": 12,
   "id": "914434da",
   "metadata": {},
   "outputs": [
    {
     "data": {
      "text/plain": [
       "(1772, 432, 648, 3)"
      ]
     },
     "execution_count": 12,
     "metadata": {},
     "output_type": "execute_result"
    }
   ],
   "source": [
    "reworked_saved.shape"
   ]
  },
  {
   "cell_type": "code",
   "execution_count": 13,
   "id": "9b5d24f2",
   "metadata": {},
   "outputs": [],
   "source": [
    "\n",
    "train_dataloader_features = reworked_saved-2048# вычитание теневого тока\n",
    "train_dataloader_colors = pd.read_csv ('C:\\\\Users\\\\79778\\\\SimpleCube++\\\\SimpleCube++\\\\train\\\\gt.csv')\n",
    "train_dataloader_colors = train_dataloader_colors.to_numpy()\n",
    "train_dataloader_colors = np.delete(train_dataloader_colors,0,1)#оставляем только ответы без индексов \n",
    "train_dataloader_colors = train_dataloader_colors.astype('float32')"
   ]
  },
  {
   "cell_type": "markdown",
   "id": "1719c5fa",
   "metadata": {},
   "source": [
    "# test в dataset"
   ]
  },
  {
   "cell_type": "code",
   "execution_count": 14,
   "id": "ab973271",
   "metadata": {},
   "outputs": [],
   "source": [
    "path = 'C:\\\\Users\\\\79778\\\\SimpleCube++\\\\TRATEST\\\\TestPng\\\\testPNG'"
   ]
  },
  {
   "cell_type": "markdown",
   "id": "b49be4d3",
   "metadata": {},
   "source": [
    "#appending the pics to the training data list\n",
    "training_data = []\n",
    "for img in os.listdir(path):\n",
    "    pic = cv2.imread(os.path.join(path,img), cv2.IMREAD_ANYCOLOR |cv2.IMREAD_ANYDEPTH)\n",
    "    pic = cv2.cvtColor(pic,cv2.COLOR_BGR2RGB)\n",
    "    pic = cv2.resize(pic,(648,432))\n",
    "    training_data.append([pic])\n",
    "\n",
    "np.save(os.path.join(path,'features'),np.array(training_data))"
   ]
  },
  {
   "cell_type": "code",
   "execution_count": 15,
   "id": "88e4191c",
   "metadata": {},
   "outputs": [],
   "source": [
    "saved = np.load(os.path.join(path,'features.npy'))\n",
    "saved = saved.reshape(462, 432, 648, 3)"
   ]
  },
  {
   "cell_type": "code",
   "execution_count": 16,
   "id": "c5572152",
   "metadata": {},
   "outputs": [],
   "source": [
    "saved = np.where(saved == [0,0,0], [2048,2048,2048], saved)"
   ]
  },
  {
   "cell_type": "code",
   "execution_count": 17,
   "id": "3f19455a",
   "metadata": {},
   "outputs": [],
   "source": [
    "test_dataloader_features = saved-2048\n",
    "test_dataloader_colors = pd.read_csv ('C:\\\\Users\\\\79778\\\\SimpleCube++\\\\SimpleCube++\\\\test\\\\gt.csv')\n",
    "test_dataloader_colors = test_dataloader_colors.to_numpy()\n",
    "test_dataloader_colors = np.delete(test_dataloader_colors,0,1)  \n",
    "test_dataloader_colors = test_dataloader_colors.astype('float32')"
   ]
  },
  {
   "cell_type": "markdown",
   "id": "6340381b",
   "metadata": {},
   "source": [
    "# Grey-World"
   ]
  },
  {
   "cell_type": "code",
   "execution_count": 42,
   "id": "9017566a",
   "metadata": {},
   "outputs": [
    {
     "data": {
      "text/plain": [
       "3.093686721120101"
      ]
     },
     "execution_count": 42,
     "metadata": {},
     "output_type": "execute_result"
    }
   ],
   "source": [
    "answers = np.sum(train_dataloader_features,axis=(1,2))\n",
    "answers = np.array(answers)\n",
    "angle_cos =[]\n",
    "for i in range(1772):\n",
    "        angle_cos.append( dot (answers[i], train_dataloader_colors[i])/(norm( train_dataloader_colors[i])*norm(answers[i])))\n",
    "angle = np.arccos(angle_cos)*180/np.pi\n",
    "np.average(angle)"
   ]
  },
  {
   "cell_type": "code",
   "execution_count": 102,
   "id": "994e98ed",
   "metadata": {},
   "outputs": [
    {
     "data": {
      "text/plain": [
       "1.7894562888014682"
      ]
     },
     "execution_count": 102,
     "metadata": {},
     "output_type": "execute_result"
    }
   ],
   "source": [
    "tr = np.sum(angle-np.average(angle))**2# пригшодится для отклонения"
   ]
  },
  {
   "cell_type": "code",
   "execution_count": 57,
   "id": "848831c0",
   "metadata": {},
   "outputs": [
    {
     "data": {
      "text/plain": [
       "3.4985113726620964"
      ]
     },
     "execution_count": 57,
     "metadata": {},
     "output_type": "execute_result"
    }
   ],
   "source": [
    "answers = np.average(test_dataloader_features,(1,2))\n",
    "answers = np.array(answers)\n",
    "angle =[]\n",
    "for i in range(462):\n",
    "        angle.append( dot (answers[i], test_dataloader_colors[i])/(norm( test_dataloader_colors[i])*norm(answers[i])))\n",
    "angle = np.array(angle)\n",
    "angle = np.arccos(angle)*180/np.pi\n",
    "np.average(angle)"
   ]
  },
  {
   "cell_type": "code",
   "execution_count": 100,
   "id": "3d1fd665",
   "metadata": {},
   "outputs": [
    {
     "data": {
      "text/plain": [
       "1.5940744156073838"
      ]
     },
     "execution_count": 100,
     "metadata": {},
     "output_type": "execute_result"
    }
   ],
   "source": [
    "np.sqrt(np.sum((tr + np.sum((angle-np.average(angle))**2)))/(1772+461))# стандартное отклонение"
   ]
  },
  {
   "cell_type": "markdown",
   "id": "f62f4f0b",
   "metadata": {},
   "source": [
    "# MAX-RGB"
   ]
  },
  {
   "cell_type": "code",
   "execution_count": 105,
   "id": "2f59fda8",
   "metadata": {},
   "outputs": [
    {
     "data": {
      "text/plain": [
       "5.581871450437838"
      ]
     },
     "execution_count": 105,
     "metadata": {},
     "output_type": "execute_result"
    }
   ],
   "source": [
    "lkdsjf = np.amax(train_dataloader_features, axis=(2,1))\n",
    "angle_cos =[]\n",
    "for i in range(1772):\n",
    "        angle_cos.append( dot (lkdsjf[i], train_dataloader_colors[i])/(norm( train_dataloader_colors[i])*norm(lkdsjf[i])))\n",
    "angle = np.arccos(angle_cos)*180/np.pi\n",
    "np.average(angle)"
   ]
  },
  {
   "cell_type": "code",
   "execution_count": 106,
   "id": "af4f74de",
   "metadata": {},
   "outputs": [],
   "source": [
    "tr = np.sum(angle-np.average(angle))**2"
   ]
  },
  {
   "cell_type": "code",
   "execution_count": 107,
   "id": "c121c1a0",
   "metadata": {},
   "outputs": [
    {
     "data": {
      "text/plain": [
       "5.988402216193486"
      ]
     },
     "execution_count": 107,
     "metadata": {},
     "output_type": "execute_result"
    }
   ],
   "source": [
    "testi =  np.amax(test_dataloader_features, axis=(2,1))\n",
    "angleB =[]\n",
    "for i in range(462):\n",
    "        angleB.append( dot (testi[i], test_dataloader_colors[i])/(norm( test_dataloader_colors[i])*norm(testi[i])))\n",
    "angleB = np.array(angleB)\n",
    "angleB = np.arccos(angleB)*180/np.pi\n",
    "np.average(angleB)"
   ]
  },
  {
   "cell_type": "code",
   "execution_count": 108,
   "id": "c6093b91",
   "metadata": {},
   "outputs": [
    {
     "data": {
      "text/plain": [
       "2.895840461711341"
      ]
     },
     "execution_count": 108,
     "metadata": {},
     "output_type": "execute_result"
    }
   ],
   "source": [
    "np.sqrt(np.sum((tr + np.sum((angleB-np.average(angleB))**2)))/(1772+461))"
   ]
  },
  {
   "cell_type": "markdown",
   "id": "5f2ef1c1",
   "metadata": {},
   "source": [
    "# Shades of Grey"
   ]
  },
  {
   "cell_type": "code",
   "execution_count": 109,
   "id": "813397a4",
   "metadata": {},
   "outputs": [],
   "source": [
    "train_dataloader_features = train_dataloader_features.astype('float64')# для чтобы степени влезли в диапазон"
   ]
  },
  {
   "cell_type": "markdown",
   "id": "ad7bbaad",
   "metadata": {},
   "source": [
    "train_dataloader_features_fornorm = train_dataloader_features\n",
    "norma =np.amax(train_dataloader_features_fornorm, axis=3, keepdims=True)\n",
    "train_dataloader_features_normed = train_dataloader_features/norma\n",
    "train_dataloader_features_normed = np.nan_to_num(train_dataloader_features_normed, posinf=0, neginf=0)"
   ]
  },
  {
   "cell_type": "code",
   "execution_count": 110,
   "id": "193fb22f",
   "metadata": {
    "scrolled": true
   },
   "outputs": [
    {
     "name": "stdout",
     "output_type": "stream",
     "text": [
      "[[ 358005.53730913  727917.41899683  405964.30272131]\n",
      " [ 409834.40901296  928537.23809118  620069.42408895]\n",
      " [ 947394.54130262 1932661.38061482 1241245.42689389]\n",
      " ...\n",
      " [ 743830.96857351  740650.36694651  156292.05343523]\n",
      " [ 730092.71425416  723734.86133666  119878.81179341]\n",
      " [ 689453.05546643  694391.33123837  109078.82778523]]\n"
     ]
    },
    {
     "data": {
      "text/plain": [
       "2.933959593918391"
      ]
     },
     "execution_count": 110,
     "metadata": {},
     "output_type": "execute_result"
    }
   ],
   "source": [
    "n=2\n",
    "prpose = np.power(np.sum(np.power(train_dataloader_features,n),axis=(1,2)),(1/n))\n",
    "print(prpose)\n",
    "prpose = np.array(prpose)\n",
    "answers = prpose\n",
    "angle_cos =[]\n",
    "for i in range(1772):\n",
    "        angle_cos.append( np.clip(dot (answers[i], train_dataloader_colors[i])/(norm( train_dataloader_colors[i])*norm(answers[i])),-1,1))\n",
    "angle = np.arccos(angle_cos)*180/np.pi\n",
    "np.average(angle)"
   ]
  },
  {
   "cell_type": "code",
   "execution_count": 111,
   "id": "aa825a6f",
   "metadata": {},
   "outputs": [],
   "source": [
    "tr = np.sum(angle-np.average(angle))**2"
   ]
  },
  {
   "cell_type": "markdown",
   "id": "0cd26a34",
   "metadata": {},
   "source": [
    "# test\n"
   ]
  },
  {
   "cell_type": "code",
   "execution_count": 112,
   "id": "9949e74e",
   "metadata": {},
   "outputs": [],
   "source": [
    "test_dataloader_features = test_dataloader_features.astype('float64')"
   ]
  },
  {
   "cell_type": "markdown",
   "id": "d97f5bb2",
   "metadata": {},
   "source": [
    "test_dataloader_features_fornorm = test_dataloader_features\n",
    "norma =np.amax(test_dataloader_features_fornorm, axis=3, keepdims=True)\n",
    "test_dataloader_features_normed = test_dataloader_features/norma\n",
    "test_dataloader_features_normed = np.nan_to_num(test_dataloader_features_normed, posinf=0, neginf=0)"
   ]
  },
  {
   "cell_type": "code",
   "execution_count": 113,
   "id": "413064f6",
   "metadata": {
    "scrolled": true
   },
   "outputs": [
    {
     "name": "stdout",
     "output_type": "stream",
     "text": [
      "0\n"
     ]
    },
    {
     "data": {
      "text/plain": [
       "3.3356660130356843"
      ]
     },
     "execution_count": 113,
     "metadata": {},
     "output_type": "execute_result"
    }
   ],
   "source": [
    "n=2\n",
    "prpose = np.power(np.sum(np.power(test_dataloader_features,n),axis=(1,2)),(1/n))\n",
    "print(np.isnan(prpose).sum())\n",
    "prpose = np.array(prpose)\n",
    "answers = prpose\n",
    "angle_cos =[]\n",
    "for i in range(462):\n",
    "        angle_cos.append(np.clip( dot (answers[i], test_dataloader_colors[i])/(norm( test_dataloader_colors[i])*norm(answers[i])),-1,1))\n",
    "angle = np.arccos(angle_cos)*180/np.pi\n",
    "np.average(angle)"
   ]
  },
  {
   "cell_type": "code",
   "execution_count": 114,
   "id": "3cac754b",
   "metadata": {},
   "outputs": [
    {
     "data": {
      "text/plain": [
       "1.670520336927425"
      ]
     },
     "execution_count": 114,
     "metadata": {},
     "output_type": "execute_result"
    }
   ],
   "source": [
    "np.sqrt(np.sum((tr + np.sum((angle-np.average(angle))**2)))/(1772+461))"
   ]
  },
  {
   "cell_type": "markdown",
   "id": "9a0a6310",
   "metadata": {},
   "source": [
    "# General Grey-World"
   ]
  },
  {
   "cell_type": "code",
   "execution_count": 115,
   "id": "92ce47e5",
   "metadata": {},
   "outputs": [],
   "source": [
    "sigma = 1\n",
    "train_dataloader_features_blured = []\n",
    "for i in range(1772):\n",
    "    train_dataloader_features_blured.append(cv2.GaussianBlur(train_dataloader_features[i],(3,3),sigma))\n",
    "train_dataloader_features_blured = np.array(train_dataloader_features_blured)"
   ]
  },
  {
   "cell_type": "code",
   "execution_count": 117,
   "id": "5ff93d60",
   "metadata": {
    "scrolled": true
   },
   "outputs": [
    {
     "name": "stdout",
     "output_type": "stream",
     "text": [
      "[[ 355001.03822997  721800.06871683  401607.33831749]\n",
      " [ 397844.20669729  899632.36421362  598014.09723417]\n",
      " [ 924747.5063466  1884309.14318525 1206368.08886181]\n",
      " ...\n",
      " [ 742589.97258902  739507.97144693  155998.3463174 ]\n",
      " [ 729735.62503444  723435.08930625  119720.07092078]\n",
      " [ 686885.11585858  691976.33089487  108544.36995686]]\n"
     ]
    },
    {
     "data": {
      "text/plain": [
       "2.94644039511389"
      ]
     },
     "execution_count": 117,
     "metadata": {},
     "output_type": "execute_result"
    }
   ],
   "source": [
    "n=2\n",
    "prpose = np.power(np.sum(np.power(train_dataloader_features_blured,n),axis=(1,2)),(1/n))\n",
    "print(prpose)\n",
    "prpose = np.array(prpose)\n",
    "answers = prpose\n",
    "angle_cos =[]\n",
    "for i in range(1772):\n",
    "        angle_cos.append( np.clip(dot (answers[i], train_dataloader_colors[i])/(norm( train_dataloader_colors[i])*norm(answers[i])),-1,1))\n",
    "angle = np.arccos(angle_cos)*180/np.pi\n",
    "np.average(angle)"
   ]
  },
  {
   "cell_type": "code",
   "execution_count": 118,
   "id": "23a8d8cf",
   "metadata": {},
   "outputs": [],
   "source": [
    "tr = np.sum(angle-np.average(angle))**2"
   ]
  },
  {
   "cell_type": "code",
   "execution_count": 119,
   "id": "763f8315",
   "metadata": {
    "scrolled": true
   },
   "outputs": [
    {
     "name": "stdout",
     "output_type": "stream",
     "text": [
      "[[ 795719.60586223  938597.6810903   306074.05393315]\n",
      " [1628115.5203109  3195839.0077214  2877769.29552145]\n",
      " [ 546355.63737927 1146781.94197917  702386.2448328 ]\n",
      " ...\n",
      " [1065374.73374758  993379.50856225  150726.78471436]\n",
      " [1164239.02937461 1063801.3681758   135663.01078191]\n",
      " [ 961137.46166625  944628.47058162  178788.29609459]]\n"
     ]
    },
    {
     "data": {
      "text/plain": [
       "3.3473674375358704"
      ]
     },
     "execution_count": 119,
     "metadata": {},
     "output_type": "execute_result"
    }
   ],
   "source": [
    "sigma = 1\n",
    "test_dataloader_features_blured = []\n",
    "for i in range(462):\n",
    "    test_dataloader_features_blured.append(cv2.GaussianBlur(test_dataloader_features[i],(3,3),sigma))\n",
    "\n",
    "test_dataloader_features_blured = np.array(test_dataloader_features_blured)\n",
    "\n",
    "n=2\n",
    "prpose = np.power(np.sum(np.power(test_dataloader_features_blured,n),axis=(1,2)),(1/n))\n",
    "print(prpose)\n",
    "prpose = np.array(prpose)\n",
    "answers = prpose\n",
    "angle_cos =[]\n",
    "for i in range(462):\n",
    "        angle_cos.append( np.clip(dot (answers[i], test_dataloader_colors[i])/(norm( test_dataloader_colors[i])*norm(answers[i])),-1,1))\n",
    "angle = np.arccos(angle_cos)*180/np.pi\n",
    "np.average(angle)"
   ]
  },
  {
   "cell_type": "code",
   "execution_count": 120,
   "id": "0078ac53",
   "metadata": {},
   "outputs": [
    {
     "data": {
      "text/plain": [
       "1.6751001584314833"
      ]
     },
     "execution_count": 120,
     "metadata": {},
     "output_type": "execute_result"
    }
   ],
   "source": []
  },
  {
   "cell_type": "markdown",
   "id": "5081036d",
   "metadata": {},
   "source": [
    "# Grey Edge"
   ]
  },
  {
   "cell_type": "code",
   "execution_count": 128,
   "id": "0b39589d",
   "metadata": {},
   "outputs": [],
   "source": [
    "train_dataloader_features_diff_2 = []#тут сразу код для второй производной, (подредаченная первая)\n",
    "for i in range (1772):\n",
    "    train_dataloader_features_blured=cv2.GaussianBlur(train_dataloader_features_diff[i],(3,3),1)\n",
    "    x = cv2.Sobel(train_dataloader_features_blured,cv2.CV_64F,1,0)  \n",
    "    y = cv2.Sobel(train_dataloader_features_blured,cv2.CV_64F,0,1) \n",
    "    train_dataloader_features_diff_2.append(cv2.addWeighted(x,1,y,1,0)) \n",
    "train_dataloader_features_diff_2=np.array(train_dataloader_features_diff_2).astype(\"float64\")"
   ]
  },
  {
   "cell_type": "code",
   "execution_count": 129,
   "id": "98404d3a",
   "metadata": {
    "scrolled": true
   },
   "outputs": [
    {
     "data": {
      "text/plain": [
       "3.011704951362594"
      ]
     },
     "execution_count": 129,
     "metadata": {},
     "output_type": "execute_result"
    }
   ],
   "source": [
    "n=2\n",
    "prpose = np.power(np.sum(np.power(np.abs(train_dataloader_features_diff_2),n),axis=(1,2)),(1/n))\n",
    "prpose = np.array(prpose)\n",
    "answers = prpose\n",
    "angle_cos =[]\n",
    "for i in range(1772):\n",
    "        angle_cos.append( np.clip(dot (answers[i], train_dataloader_colors[i])/(norm( train_dataloader_colors[i])*norm(answers[i])),-1,1))\n",
    "angle = np.arccos(angle_cos)*180/np.pi\n",
    "np.average(angle)"
   ]
  },
  {
   "cell_type": "code",
   "execution_count": 130,
   "id": "80e371b2",
   "metadata": {},
   "outputs": [],
   "source": [
    "tr = np.sum(angle-np.average(angle))**2"
   ]
  },
  {
   "cell_type": "code",
   "execution_count": 131,
   "id": "b2552a05",
   "metadata": {},
   "outputs": [],
   "source": [
    "test_dataloader_features_diff_2 = []\n",
    "for i in range (462):\n",
    "    test_dataloader_features_blured=cv2.GaussianBlur(test_dataloader_features_diff[i],(3,3),1)\n",
    "    x = cv2.Sobel(test_dataloader_features_blured,cv2.CV_64F,1,0)  \n",
    "    y = cv2.Sobel(test_dataloader_features_blured,cv2.CV_64F,0,1) \n",
    "    test_dataloader_features_diff_2.append(cv2.addWeighted(x,1,y,1,0)) \n",
    "    \n",
    "\n",
    "test_dataloader_features_diff_2=np.array(test_dataloader_features_diff_2).astype(\"float64\")"
   ]
  },
  {
   "cell_type": "code",
   "execution_count": 132,
   "id": "a1a8dab9",
   "metadata": {},
   "outputs": [
    {
     "data": {
      "text/plain": [
       "3.416054501372754"
      ]
     },
     "execution_count": 132,
     "metadata": {},
     "output_type": "execute_result"
    }
   ],
   "source": [
    "n=2\n",
    "prpose = np.power(np.sum(np.power(np.abs(test_dataloader_features_diff_2),n),axis=(1,2)),(1/n))\n",
    "prpose = np.array(prpose)\n",
    "answers = prpose\n",
    "angle_cos =[]\n",
    "for i in range(462):\n",
    "        angle_cos.append( np.clip(dot (answers[i], test_dataloader_colors[i])/(norm( test_dataloader_colors[i])*norm(answers[i])),-1,1))\n",
    "angle = np.arccos(angle_cos)*180/np.pi\n",
    "np.average(angle)"
   ]
  },
  {
   "cell_type": "code",
   "execution_count": 133,
   "id": "dd732cf7",
   "metadata": {},
   "outputs": [
    {
     "data": {
      "text/plain": [
       "1.6843980030109347"
      ]
     },
     "execution_count": 133,
     "metadata": {},
     "output_type": "execute_result"
    }
   ],
   "source": [
    "np.sqrt(np.sum((tr + np.sum((angle-np.average(angle))**2)))/(1772+461))"
   ]
  },
  {
   "cell_type": "markdown",
   "id": "6b34581f",
   "metadata": {},
   "source": [
    "## Цербер"
   ]
  },
  {
   "cell_type": "code",
   "execution_count": 18,
   "id": "7f053b26",
   "metadata": {
    "scrolled": true
   },
   "outputs": [],
   "source": [
    "train_dataset = tf.data.Dataset.from_tensor_slices(\n",
    "    (train_dataloader_features.astype('float16'),train_dataloader_colors))\n",
    "train_dataset = train_dataset.shuffle(buffer_size=256).batch(1)"
   ]
  },
  {
   "cell_type": "code",
   "execution_count": 25,
   "id": "784827cd",
   "metadata": {},
   "outputs": [
    {
     "data": {
      "text/plain": [
       "(1772, 432, 648, 3)"
      ]
     },
     "execution_count": 25,
     "metadata": {},
     "output_type": "execute_result"
    }
   ],
   "source": [
    "train_dataloader_features.shape"
   ]
  },
  {
   "cell_type": "code",
   "execution_count": 19,
   "id": "2fa9e990",
   "metadata": {},
   "outputs": [],
   "source": [
    "test_dataset = tf.data.Dataset.from_tensor_slices(\n",
    "    (test_dataloader_features.astype('float16'),test_dataloader_colors))\n",
    "test_dataset = test_dataset.shuffle(buffer_size=256).batch(1)"
   ]
  },
  {
   "cell_type": "code",
   "execution_count": 20,
   "id": "05c295ed",
   "metadata": {},
   "outputs": [],
   "source": [
    "pi = tf.constant(math.pi)\n",
    "def maxim(y_true, y_pred):  \n",
    "    return tf.math.reduce_max(tf.clip_by_value(tf.compat.v1.losses.cosine_distance(y_true, y_pred, axis=1),-1,1))\n",
    "def disspersion(y_true, y_pred):\n",
    "    return tf.math.sqrt(tf.math.reduce_sum((y_pred-y_true)**2/(tf.cast(tf.shape(y_true),tf.float32 ))))"
   ]
  },
  {
   "cell_type": "code",
   "execution_count": 21,
   "id": "b1c4d980",
   "metadata": {},
   "outputs": [],
   "source": [
    "inp = Input(shape=(432, 648, 3))\n",
    "lay = AveragePooling2D(pool_size=(432, 648),input_shape = (432, 648, 3), padding='same')(inp)\n",
    "lay = UpSampling2D((432, 648),input_shape = (432, 648, 3))(lay)\n",
    "out = tf.keras.layers.concatenate([lay,inp], axis=-1)\n",
    "conv_model = Model(inp, out)"
   ]
  },
  {
   "cell_type": "code",
   "execution_count": 22,
   "id": "da6f72f2",
   "metadata": {
    "scrolled": false
   },
   "outputs": [],
   "source": [
    "model = tf.keras.Sequential([\n",
    "    tf.keras.layers.Rescaling(1./65535),\n",
    "    #tf.keras.layers.RandomCrop(100,100),\n",
    "    tf.keras.layers.Resizing(432, 648),\n",
    "    \n",
    "    #tf.keras.layers.RandomTranslation(height_factor=0.2, width_factor=0.2, fill_mode=\"constant\"),\n",
    "    \n",
    "    tf.keras.layers.RandomFlip(\"horizontal_and_vertical\",),\n",
    "    tf.keras.layers.RandomZoom(.7, .7),\n",
    "    tf.keras.layers.RandomRotation(1),\n",
    "    conv_model,\n",
    "    tf.keras.layers.Conv2D(16, 3,padding='same', activation='relu',input_shape=(432, 648, 6)),\n",
    "    tf.keras.layers.MaxPooling2D(input_shape=(432, 648, 6)),\n",
    "    tf.keras.layers.Conv2D(32, 3,padding='same', activation='relu',input_shape=(432, 648, 6)),\n",
    "    tf.keras.layers.MaxPooling2D(input_shape=(432, 648, 6)),\n",
    "    tf.keras.layers.Conv2D(64, 3,padding='same', activation='relu',input_shape=(432, 648, 6)),\n",
    "    tf.keras.layers.MaxPooling2D(input_shape=(432, 648, 6)),\n",
    "    tf.keras.layers.Conv2D(128, 3,padding='same', activation='relu',input_shape=(432, 648, 6)),\n",
    "    tf.keras.layers.MaxPooling2D(input_shape=(432, 648, 6)),\n",
    "    tf.keras.layers.Conv2D(256, 3,padding='same', activation='relu',input_shape=(432, 648, 6)),\n",
    "    tf.keras.layers.MaxPooling2D(input_shape=(432, 648, 6)),\n",
    "    tf.keras.layers.Conv2D(1024, 3,padding='same', activation='relu',input_shape=(432, 648, 6)),\n",
    "    tf.keras.layers.MaxPooling2D(input_shape=(432, 648, 6)),\n",
    "    tf.keras.layers.Conv2D(1500, 3,padding='same', activation='relu',input_shape=(64,64, 6)),\n",
    "    tf.keras.layers.MaxPooling2D(input_shape=(432, 648, 6)),\n",
    "    tf.keras.layers.Conv2D(2400, 3,padding='same', activation='relu',input_shape=(64,64, 6)),\n",
    "    tf.keras.layers.MaxPooling2D(input_shape=(432, 648, 6)),\n",
    "    tf.keras.layers.Conv2D(16, 3,padding='same', activation='relu',input_shape=(432, 648, 6)),\n",
    "    #,\n",
    "    tf.keras.layers.Flatten(),\n",
    "    tf.keras.layers.Dropout(0.5),\n",
    "    tf.keras.layers.Dense(4800,activation='relu'),\n",
    "    tf.keras.layers.Dense(1000,activation='relu'),\n",
    "    tf.keras.layers.Dense(500,activation='relu'),\n",
    "    tf.keras.layers.Dense(400,activation='relu'),\n",
    "    tf.keras.layers.Dense(3)\n",
    "])\n"
   ]
  },
  {
   "cell_type": "code",
   "execution_count": 27,
   "id": "626d1ea3",
   "metadata": {
    "scrolled": false
   },
   "outputs": [
    {
     "name": "stdout",
     "output_type": "stream",
     "text": [
      "Epoch 1/20\n",
      "  22/1772 [..............................] - ETA: 2:23 - loss: 0.3310 - cosine_similarity: 0.9449 - disspersion: 89.6454"
     ]
    },
    {
     "ename": "KeyboardInterrupt",
     "evalue": "",
     "output_type": "error",
     "traceback": [
      "\u001b[1;31m---------------------------------------------------------------------------\u001b[0m",
      "\u001b[1;31mKeyboardInterrupt\u001b[0m                         Traceback (most recent call last)",
      "\u001b[1;32m~\\AppData\\Local\\Temp/ipykernel_7940/2815200680.py\u001b[0m in \u001b[0;36m<module>\u001b[1;34m\u001b[0m\n\u001b[0;32m      7\u001b[0m )\n\u001b[0;32m      8\u001b[0m \u001b[0mcallback\u001b[0m \u001b[1;33m=\u001b[0m \u001b[0mtf\u001b[0m\u001b[1;33m.\u001b[0m\u001b[0mkeras\u001b[0m\u001b[1;33m.\u001b[0m\u001b[0mcallbacks\u001b[0m\u001b[1;33m.\u001b[0m\u001b[0mEarlyStopping\u001b[0m\u001b[1;33m(\u001b[0m\u001b[0mmonitor\u001b[0m\u001b[1;33m=\u001b[0m\u001b[1;34m'loss'\u001b[0m\u001b[1;33m,\u001b[0m \u001b[0mpatience\u001b[0m\u001b[1;33m=\u001b[0m\u001b[1;36m3\u001b[0m\u001b[1;33m,\u001b[0m\u001b[0mmin_delta\u001b[0m\u001b[1;33m=\u001b[0m\u001b[1;36m0.0001\u001b[0m\u001b[1;33m)\u001b[0m\u001b[1;33m\u001b[0m\u001b[1;33m\u001b[0m\u001b[0m\n\u001b[1;32m----> 9\u001b[1;33m history = model.fit(\n\u001b[0m\u001b[0;32m     10\u001b[0m     \u001b[0mtrain_dataset\u001b[0m\u001b[1;33m,\u001b[0m\u001b[1;33m\u001b[0m\u001b[1;33m\u001b[0m\u001b[0m\n\u001b[0;32m     11\u001b[0m \u001b[1;33m\u001b[0m\u001b[0m\n",
      "\u001b[1;32m~\\anaconda3\\lib\\site-packages\\keras\\utils\\traceback_utils.py\u001b[0m in \u001b[0;36merror_handler\u001b[1;34m(*args, **kwargs)\u001b[0m\n\u001b[0;32m     62\u001b[0m     \u001b[0mfiltered_tb\u001b[0m \u001b[1;33m=\u001b[0m \u001b[1;32mNone\u001b[0m\u001b[1;33m\u001b[0m\u001b[1;33m\u001b[0m\u001b[0m\n\u001b[0;32m     63\u001b[0m     \u001b[1;32mtry\u001b[0m\u001b[1;33m:\u001b[0m\u001b[1;33m\u001b[0m\u001b[1;33m\u001b[0m\u001b[0m\n\u001b[1;32m---> 64\u001b[1;33m       \u001b[1;32mreturn\u001b[0m \u001b[0mfn\u001b[0m\u001b[1;33m(\u001b[0m\u001b[1;33m*\u001b[0m\u001b[0margs\u001b[0m\u001b[1;33m,\u001b[0m \u001b[1;33m**\u001b[0m\u001b[0mkwargs\u001b[0m\u001b[1;33m)\u001b[0m\u001b[1;33m\u001b[0m\u001b[1;33m\u001b[0m\u001b[0m\n\u001b[0m\u001b[0;32m     65\u001b[0m     \u001b[1;32mexcept\u001b[0m \u001b[0mException\u001b[0m \u001b[1;32mas\u001b[0m \u001b[0me\u001b[0m\u001b[1;33m:\u001b[0m  \u001b[1;31m# pylint: disable=broad-except\u001b[0m\u001b[1;33m\u001b[0m\u001b[1;33m\u001b[0m\u001b[0m\n\u001b[0;32m     66\u001b[0m       \u001b[0mfiltered_tb\u001b[0m \u001b[1;33m=\u001b[0m \u001b[0m_process_traceback_frames\u001b[0m\u001b[1;33m(\u001b[0m\u001b[0me\u001b[0m\u001b[1;33m.\u001b[0m\u001b[0m__traceback__\u001b[0m\u001b[1;33m)\u001b[0m\u001b[1;33m\u001b[0m\u001b[1;33m\u001b[0m\u001b[0m\n",
      "\u001b[1;32m~\\anaconda3\\lib\\site-packages\\keras\\engine\\training.py\u001b[0m in \u001b[0;36mfit\u001b[1;34m(self, x, y, batch_size, epochs, verbose, callbacks, validation_split, validation_data, shuffle, class_weight, sample_weight, initial_epoch, steps_per_epoch, validation_steps, validation_batch_size, validation_freq, max_queue_size, workers, use_multiprocessing)\u001b[0m\n\u001b[0;32m   1214\u001b[0m                 _r=1):\n\u001b[0;32m   1215\u001b[0m               \u001b[0mcallbacks\u001b[0m\u001b[1;33m.\u001b[0m\u001b[0mon_train_batch_begin\u001b[0m\u001b[1;33m(\u001b[0m\u001b[0mstep\u001b[0m\u001b[1;33m)\u001b[0m\u001b[1;33m\u001b[0m\u001b[1;33m\u001b[0m\u001b[0m\n\u001b[1;32m-> 1216\u001b[1;33m               \u001b[0mtmp_logs\u001b[0m \u001b[1;33m=\u001b[0m \u001b[0mself\u001b[0m\u001b[1;33m.\u001b[0m\u001b[0mtrain_function\u001b[0m\u001b[1;33m(\u001b[0m\u001b[0miterator\u001b[0m\u001b[1;33m)\u001b[0m\u001b[1;33m\u001b[0m\u001b[1;33m\u001b[0m\u001b[0m\n\u001b[0m\u001b[0;32m   1217\u001b[0m               \u001b[1;32mif\u001b[0m \u001b[0mdata_handler\u001b[0m\u001b[1;33m.\u001b[0m\u001b[0mshould_sync\u001b[0m\u001b[1;33m:\u001b[0m\u001b[1;33m\u001b[0m\u001b[1;33m\u001b[0m\u001b[0m\n\u001b[0;32m   1218\u001b[0m                 \u001b[0mcontext\u001b[0m\u001b[1;33m.\u001b[0m\u001b[0masync_wait\u001b[0m\u001b[1;33m(\u001b[0m\u001b[1;33m)\u001b[0m\u001b[1;33m\u001b[0m\u001b[1;33m\u001b[0m\u001b[0m\n",
      "\u001b[1;32m~\\anaconda3\\lib\\site-packages\\tensorflow\\python\\util\\traceback_utils.py\u001b[0m in \u001b[0;36merror_handler\u001b[1;34m(*args, **kwargs)\u001b[0m\n\u001b[0;32m    148\u001b[0m     \u001b[0mfiltered_tb\u001b[0m \u001b[1;33m=\u001b[0m \u001b[1;32mNone\u001b[0m\u001b[1;33m\u001b[0m\u001b[1;33m\u001b[0m\u001b[0m\n\u001b[0;32m    149\u001b[0m     \u001b[1;32mtry\u001b[0m\u001b[1;33m:\u001b[0m\u001b[1;33m\u001b[0m\u001b[1;33m\u001b[0m\u001b[0m\n\u001b[1;32m--> 150\u001b[1;33m       \u001b[1;32mreturn\u001b[0m \u001b[0mfn\u001b[0m\u001b[1;33m(\u001b[0m\u001b[1;33m*\u001b[0m\u001b[0margs\u001b[0m\u001b[1;33m,\u001b[0m \u001b[1;33m**\u001b[0m\u001b[0mkwargs\u001b[0m\u001b[1;33m)\u001b[0m\u001b[1;33m\u001b[0m\u001b[1;33m\u001b[0m\u001b[0m\n\u001b[0m\u001b[0;32m    151\u001b[0m     \u001b[1;32mexcept\u001b[0m \u001b[0mException\u001b[0m \u001b[1;32mas\u001b[0m \u001b[0me\u001b[0m\u001b[1;33m:\u001b[0m\u001b[1;33m\u001b[0m\u001b[1;33m\u001b[0m\u001b[0m\n\u001b[0;32m    152\u001b[0m       \u001b[0mfiltered_tb\u001b[0m \u001b[1;33m=\u001b[0m \u001b[0m_process_traceback_frames\u001b[0m\u001b[1;33m(\u001b[0m\u001b[0me\u001b[0m\u001b[1;33m.\u001b[0m\u001b[0m__traceback__\u001b[0m\u001b[1;33m)\u001b[0m\u001b[1;33m\u001b[0m\u001b[1;33m\u001b[0m\u001b[0m\n",
      "\u001b[1;32m~\\anaconda3\\lib\\site-packages\\tensorflow\\python\\eager\\def_function.py\u001b[0m in \u001b[0;36m__call__\u001b[1;34m(self, *args, **kwds)\u001b[0m\n\u001b[0;32m    908\u001b[0m \u001b[1;33m\u001b[0m\u001b[0m\n\u001b[0;32m    909\u001b[0m       \u001b[1;32mwith\u001b[0m \u001b[0mOptionalXlaContext\u001b[0m\u001b[1;33m(\u001b[0m\u001b[0mself\u001b[0m\u001b[1;33m.\u001b[0m\u001b[0m_jit_compile\u001b[0m\u001b[1;33m)\u001b[0m\u001b[1;33m:\u001b[0m\u001b[1;33m\u001b[0m\u001b[1;33m\u001b[0m\u001b[0m\n\u001b[1;32m--> 910\u001b[1;33m         \u001b[0mresult\u001b[0m \u001b[1;33m=\u001b[0m \u001b[0mself\u001b[0m\u001b[1;33m.\u001b[0m\u001b[0m_call\u001b[0m\u001b[1;33m(\u001b[0m\u001b[1;33m*\u001b[0m\u001b[0margs\u001b[0m\u001b[1;33m,\u001b[0m \u001b[1;33m**\u001b[0m\u001b[0mkwds\u001b[0m\u001b[1;33m)\u001b[0m\u001b[1;33m\u001b[0m\u001b[1;33m\u001b[0m\u001b[0m\n\u001b[0m\u001b[0;32m    911\u001b[0m \u001b[1;33m\u001b[0m\u001b[0m\n\u001b[0;32m    912\u001b[0m       \u001b[0mnew_tracing_count\u001b[0m \u001b[1;33m=\u001b[0m \u001b[0mself\u001b[0m\u001b[1;33m.\u001b[0m\u001b[0mexperimental_get_tracing_count\u001b[0m\u001b[1;33m(\u001b[0m\u001b[1;33m)\u001b[0m\u001b[1;33m\u001b[0m\u001b[1;33m\u001b[0m\u001b[0m\n",
      "\u001b[1;32m~\\anaconda3\\lib\\site-packages\\tensorflow\\python\\eager\\def_function.py\u001b[0m in \u001b[0;36m_call\u001b[1;34m(self, *args, **kwds)\u001b[0m\n\u001b[0;32m    940\u001b[0m       \u001b[1;31m# In this case we have created variables on the first call, so we run the\u001b[0m\u001b[1;33m\u001b[0m\u001b[1;33m\u001b[0m\u001b[0m\n\u001b[0;32m    941\u001b[0m       \u001b[1;31m# defunned version which is guaranteed to never create variables.\u001b[0m\u001b[1;33m\u001b[0m\u001b[1;33m\u001b[0m\u001b[0m\n\u001b[1;32m--> 942\u001b[1;33m       \u001b[1;32mreturn\u001b[0m \u001b[0mself\u001b[0m\u001b[1;33m.\u001b[0m\u001b[0m_stateless_fn\u001b[0m\u001b[1;33m(\u001b[0m\u001b[1;33m*\u001b[0m\u001b[0margs\u001b[0m\u001b[1;33m,\u001b[0m \u001b[1;33m**\u001b[0m\u001b[0mkwds\u001b[0m\u001b[1;33m)\u001b[0m  \u001b[1;31m# pylint: disable=not-callable\u001b[0m\u001b[1;33m\u001b[0m\u001b[1;33m\u001b[0m\u001b[0m\n\u001b[0m\u001b[0;32m    943\u001b[0m     \u001b[1;32melif\u001b[0m \u001b[0mself\u001b[0m\u001b[1;33m.\u001b[0m\u001b[0m_stateful_fn\u001b[0m \u001b[1;32mis\u001b[0m \u001b[1;32mnot\u001b[0m \u001b[1;32mNone\u001b[0m\u001b[1;33m:\u001b[0m\u001b[1;33m\u001b[0m\u001b[1;33m\u001b[0m\u001b[0m\n\u001b[0;32m    944\u001b[0m       \u001b[1;31m# Release the lock early so that multiple threads can perform the call\u001b[0m\u001b[1;33m\u001b[0m\u001b[1;33m\u001b[0m\u001b[0m\n",
      "\u001b[1;32m~\\anaconda3\\lib\\site-packages\\tensorflow\\python\\eager\\function.py\u001b[0m in \u001b[0;36m__call__\u001b[1;34m(self, *args, **kwargs)\u001b[0m\n\u001b[0;32m   3128\u001b[0m       (graph_function,\n\u001b[0;32m   3129\u001b[0m        filtered_flat_args) = self._maybe_define_function(args, kwargs)\n\u001b[1;32m-> 3130\u001b[1;33m     return graph_function._call_flat(\n\u001b[0m\u001b[0;32m   3131\u001b[0m         filtered_flat_args, captured_inputs=graph_function.captured_inputs)  # pylint: disable=protected-access\n\u001b[0;32m   3132\u001b[0m \u001b[1;33m\u001b[0m\u001b[0m\n",
      "\u001b[1;32m~\\anaconda3\\lib\\site-packages\\tensorflow\\python\\eager\\function.py\u001b[0m in \u001b[0;36m_call_flat\u001b[1;34m(self, args, captured_inputs, cancellation_manager)\u001b[0m\n\u001b[0;32m   1957\u001b[0m         and executing_eagerly):\n\u001b[0;32m   1958\u001b[0m       \u001b[1;31m# No tape is watching; skip to running the function.\u001b[0m\u001b[1;33m\u001b[0m\u001b[1;33m\u001b[0m\u001b[0m\n\u001b[1;32m-> 1959\u001b[1;33m       return self._build_call_outputs(self._inference_function.call(\n\u001b[0m\u001b[0;32m   1960\u001b[0m           ctx, args, cancellation_manager=cancellation_manager))\n\u001b[0;32m   1961\u001b[0m     forward_backward = self._select_forward_and_backward_functions(\n",
      "\u001b[1;32m~\\anaconda3\\lib\\site-packages\\tensorflow\\python\\eager\\function.py\u001b[0m in \u001b[0;36mcall\u001b[1;34m(self, ctx, args, cancellation_manager)\u001b[0m\n\u001b[0;32m    596\u001b[0m       \u001b[1;32mwith\u001b[0m \u001b[0m_InterpolateFunctionError\u001b[0m\u001b[1;33m(\u001b[0m\u001b[0mself\u001b[0m\u001b[1;33m)\u001b[0m\u001b[1;33m:\u001b[0m\u001b[1;33m\u001b[0m\u001b[1;33m\u001b[0m\u001b[0m\n\u001b[0;32m    597\u001b[0m         \u001b[1;32mif\u001b[0m \u001b[0mcancellation_manager\u001b[0m \u001b[1;32mis\u001b[0m \u001b[1;32mNone\u001b[0m\u001b[1;33m:\u001b[0m\u001b[1;33m\u001b[0m\u001b[1;33m\u001b[0m\u001b[0m\n\u001b[1;32m--> 598\u001b[1;33m           outputs = execute.execute(\n\u001b[0m\u001b[0;32m    599\u001b[0m               \u001b[0mstr\u001b[0m\u001b[1;33m(\u001b[0m\u001b[0mself\u001b[0m\u001b[1;33m.\u001b[0m\u001b[0msignature\u001b[0m\u001b[1;33m.\u001b[0m\u001b[0mname\u001b[0m\u001b[1;33m)\u001b[0m\u001b[1;33m,\u001b[0m\u001b[1;33m\u001b[0m\u001b[1;33m\u001b[0m\u001b[0m\n\u001b[0;32m    600\u001b[0m               \u001b[0mnum_outputs\u001b[0m\u001b[1;33m=\u001b[0m\u001b[0mself\u001b[0m\u001b[1;33m.\u001b[0m\u001b[0m_num_outputs\u001b[0m\u001b[1;33m,\u001b[0m\u001b[1;33m\u001b[0m\u001b[1;33m\u001b[0m\u001b[0m\n",
      "\u001b[1;32m~\\anaconda3\\lib\\site-packages\\tensorflow\\python\\eager\\execute.py\u001b[0m in \u001b[0;36mquick_execute\u001b[1;34m(op_name, num_outputs, inputs, attrs, ctx, name)\u001b[0m\n\u001b[0;32m     56\u001b[0m   \u001b[1;32mtry\u001b[0m\u001b[1;33m:\u001b[0m\u001b[1;33m\u001b[0m\u001b[1;33m\u001b[0m\u001b[0m\n\u001b[0;32m     57\u001b[0m     \u001b[0mctx\u001b[0m\u001b[1;33m.\u001b[0m\u001b[0mensure_initialized\u001b[0m\u001b[1;33m(\u001b[0m\u001b[1;33m)\u001b[0m\u001b[1;33m\u001b[0m\u001b[1;33m\u001b[0m\u001b[0m\n\u001b[1;32m---> 58\u001b[1;33m     tensors = pywrap_tfe.TFE_Py_Execute(ctx._handle, device_name, op_name,\n\u001b[0m\u001b[0;32m     59\u001b[0m                                         inputs, attrs, num_outputs)\n\u001b[0;32m     60\u001b[0m   \u001b[1;32mexcept\u001b[0m \u001b[0mcore\u001b[0m\u001b[1;33m.\u001b[0m\u001b[0m_NotOkStatusException\u001b[0m \u001b[1;32mas\u001b[0m \u001b[0me\u001b[0m\u001b[1;33m:\u001b[0m\u001b[1;33m\u001b[0m\u001b[1;33m\u001b[0m\u001b[0m\n",
      "\u001b[1;31mKeyboardInterrupt\u001b[0m: "
     ]
    }
   ],
   "source": [
    "model.compile(\n",
    "  optimizer=tf.keras.optimizers.Adam(\n",
    "    learning_rate=1e-5),\n",
    "  loss='mae',\n",
    "  metrics=[tf.keras.metrics.CosineSimilarity(axis=1),disspersion],\n",
    "  \n",
    ")\n",
    "callback = tf.keras.callbacks.EarlyStopping(monitor='loss', patience=3,min_delta=0.0001)\n",
    "history = model.fit(\n",
    "    train_dataset,\n",
    "    \n",
    "    validation_data=test_dataset,\n",
    "    epochs=20,\n",
    ")"
   ]
  },
  {
   "cell_type": "code",
   "execution_count": 26,
   "id": "264bd142",
   "metadata": {},
   "outputs": [],
   "source": [
    "model.save(\"cosine_0,9994\",  save_format='h5')# тут я сохранил данные свокй лучше модели"
   ]
  },
  {
   "cell_type": "markdown",
   "id": "a7f63cf6",
   "metadata": {},
   "source": [
    "# FC4"
   ]
  },
  {
   "cell_type": "code",
   "execution_count": 28,
   "id": "a2e429ef",
   "metadata": {},
   "outputs": [],
   "source": [
    "from keras.models import Model\n",
    "from keras.layers import Input, Activation, Concatenate\n",
    "from keras.layers import Flatten, Dropout, Dense\n",
    "from keras.layers import Convolution2D, MaxPooling2D\n",
    "from keras.layers import GlobalAveragePooling2D\n",
    "\n",
    "\n",
    "def SqueezeNet(inputs=(3, 224, 224)):\n",
    "    \"\"\"\n",
    "    Arguments:\n",
    "    inputs -- shape of the input images (cols, rows, channel)\n",
    "    \"\"\"\n",
    "\n",
    "    input_img = Input(shape=(432, 648, 3))\n",
    "    rescale = tf.keras.layers.Rescaling(1./65535)(input_img)\n",
    "    #tf.keras.layers.RandomCrop(100,100),\n",
    "    resize = tf.keras.layers.Resizing(224, 224)(rescale)\n",
    "    \n",
    "    #tf.keras.layers.RandomTranslation(height_factor=0.2, width_factor=0.2, fill_mode=\"constant\"),\n",
    "    \n",
    "    flip = tf.keras.layers.RandomFlip(\"horizontal_and_vertical\",)(resize)\n",
    "    \n",
    "    rotate = tf.keras.layers.RandomRotation(1)(flip)\n",
    "    conv1 = Convolution2D(\n",
    "        96, (7, 7), activation='relu', kernel_initializer='glorot_uniform',\n",
    "        strides=(2, 2), padding='same', name='conv1',\n",
    "        )(rotate)\n",
    "    maxpool1 = MaxPooling2D(\n",
    "        pool_size=(3, 3), strides=(2, 2), name='maxpool1',\n",
    "        )(conv1)\n",
    "    fire2_squeeze = Convolution2D(\n",
    "        16, (1, 1), activation='relu', kernel_initializer='glorot_uniform',\n",
    "        padding='same', name='fire2_squeeze',\n",
    "        )(maxpool1)\n",
    "    fire2_expand1 = Convolution2D(\n",
    "        64, (1, 1), activation='relu', kernel_initializer='glorot_uniform',\n",
    "        padding='same', name='fire2_expand1',\n",
    "        )(fire2_squeeze)\n",
    "    fire2_expand2 = Convolution2D(\n",
    "        64, (3, 3), activation='relu', kernel_initializer='glorot_uniform',\n",
    "        padding='same', name='fire2_expand2',\n",
    "        )(fire2_squeeze)\n",
    "    merge2 = Concatenate(axis=-1)([fire2_expand1, fire2_expand2])\n",
    "\n",
    "    fire3_squeeze = Convolution2D(\n",
    "        16, (1, 1), activation='relu', kernel_initializer='glorot_uniform',\n",
    "        padding='same', name='fire3_squeeze',\n",
    "        )(merge2)\n",
    "    fire3_expand1 = Convolution2D(\n",
    "        64, (1, 1), activation='relu', kernel_initializer='glorot_uniform',\n",
    "        padding='same', name='fire3_expand1',\n",
    "        )(fire3_squeeze)\n",
    "    fire3_expand2 = Convolution2D(\n",
    "        64, (3, 3), activation='relu', kernel_initializer='glorot_uniform',\n",
    "        padding='same', name='fire3_expand2',\n",
    "        )(fire3_squeeze)\n",
    "    merge3 = Concatenate(axis=-1)([fire3_expand1, fire3_expand2])\n",
    "\n",
    "    fire4_squeeze = Convolution2D(\n",
    "        32, (1, 1), activation='relu', kernel_initializer='glorot_uniform',\n",
    "        padding='same', name='fire4_squeeze',\n",
    "        )(merge3)\n",
    "    fire4_expand1 = Convolution2D(\n",
    "        128, (1, 1), activation='relu', kernel_initializer='glorot_uniform',\n",
    "        padding='same', name='fire4_expand1',\n",
    "        )(fire4_squeeze)\n",
    "    fire4_expand2 = Convolution2D(\n",
    "        128, (3, 3), activation='relu', kernel_initializer='glorot_uniform',\n",
    "        padding='same', name='fire4_expand2',\n",
    "        )(fire4_squeeze)\n",
    "    merge4 = Concatenate(axis=-1)([fire4_expand1, fire4_expand2])\n",
    "    maxpool4 = MaxPooling2D(\n",
    "        pool_size=(3, 3), strides=(2, 2), name='maxpool4',\n",
    "        )(merge4)\n",
    "\n",
    "    fire5_squeeze = Convolution2D(\n",
    "        32, (1, 1), activation='relu', kernel_initializer='glorot_uniform',\n",
    "        padding='same', name='fire5_squeeze',\n",
    "        )(maxpool4)\n",
    "    fire5_expand1 = Convolution2D(\n",
    "        128, (1, 1), activation='relu', kernel_initializer='glorot_uniform',\n",
    "        padding='same', name='fire5_expand1',\n",
    "        )(fire5_squeeze)\n",
    "    fire5_expand2 = Convolution2D(\n",
    "        128, (3, 3), activation='relu', kernel_initializer='glorot_uniform',\n",
    "        padding='same', name='fire5_expand2',\n",
    "        )(fire5_squeeze)\n",
    "    merge5 = Concatenate(axis=-1)([fire5_expand1, fire5_expand2])\n",
    "\n",
    "    fire6_squeeze = Convolution2D(\n",
    "        48, (1, 1), activation='relu', kernel_initializer='glorot_uniform',\n",
    "        padding='same', name='fire6_squeeze',\n",
    "        )(merge5)\n",
    "    fire6_expand1 = Convolution2D(\n",
    "        192, (1, 1), activation='relu', kernel_initializer='glorot_uniform',\n",
    "        padding='same', name='fire6_expand1',\n",
    "        )(fire6_squeeze)\n",
    "    fire6_expand2 = Convolution2D(\n",
    "        192, (3, 3), activation='relu', kernel_initializer='glorot_uniform',\n",
    "        padding='same', name='fire6_expand2',\n",
    "        )(fire6_squeeze)\n",
    "    merge6 = Concatenate(axis=-1)([fire6_expand1, fire6_expand2])\n",
    "\n",
    "    fire7_squeeze = Convolution2D(\n",
    "        48, (1, 1), activation='relu', kernel_initializer='glorot_uniform',\n",
    "        padding='same', name='fire7_squeeze',\n",
    "        )(merge6)\n",
    "    fire7_expand1 = Convolution2D(\n",
    "        192, (1, 1), activation='relu', kernel_initializer='glorot_uniform',\n",
    "        padding='same', name='fire7_expand1',\n",
    "        )(fire7_squeeze)\n",
    "    fire7_expand2 = Convolution2D(\n",
    "        192, (3, 3), activation='relu', kernel_initializer='glorot_uniform',\n",
    "        padding='same', name='fire7_expand2',\n",
    "        )(fire7_squeeze)\n",
    "    merge7 = Concatenate(axis=-1)([fire7_expand1, fire7_expand2])\n",
    "\n",
    "    fire8_squeeze = Convolution2D(\n",
    "        64, (1, 1), activation='relu', kernel_initializer='glorot_uniform',\n",
    "        padding='same', name='fire8_squeeze',\n",
    "        )(merge7)\n",
    "    fire8_expand1 = Convolution2D(\n",
    "        256, (1, 1), activation='relu', kernel_initializer='glorot_uniform',\n",
    "        padding='same', name='fire8_expand1',\n",
    "        )(fire8_squeeze)\n",
    "    fire8_expand2 = Convolution2D(\n",
    "        256, (3, 3), activation='relu', kernel_initializer='glorot_uniform',\n",
    "        padding='same', name='fire8_expand2',\n",
    "        )(fire8_squeeze)\n",
    "    merge8 = Concatenate(axis=-1)([fire8_expand1, fire8_expand2])\n",
    "\n",
    "    maxpool8 = MaxPooling2D(\n",
    "        pool_size=(3, 3), strides=(2, 2), name='maxpool8',\n",
    "        )(merge8)\n",
    "    fire9_squeeze = Convolution2D(\n",
    "        64, (1, 1), activation='relu', kernel_initializer='glorot_uniform',\n",
    "        padding='same', name='fire9_squeeze',\n",
    "        )(maxpool8)\n",
    "    fire9_expand1 = Convolution2D(\n",
    "        256, (1, 1), activation='relu', kernel_initializer='glorot_uniform',\n",
    "        padding='same', name='fire9_expand1',\n",
    "        )(fire9_squeeze)\n",
    "    fire9_expand2 = Convolution2D(\n",
    "        256, (3, 3), activation='relu', kernel_initializer='glorot_uniform',\n",
    "        padding='same', name='fire9_expand2',\n",
    "        )(fire9_squeeze)\n",
    "    merge9 = Concatenate(axis=-1)([fire9_expand1, fire9_expand2])\n",
    "\n",
    "    #fire9_dropout = Dropout(0.5, name='fire9_dropout')(merge9)\n",
    "    conv10 = Convolution2D(\n",
    "        4, (1, 1), activation='relu', kernel_initializer='glorot_uniform',\n",
    "        padding='valid', name='conv10',\n",
    "        )(merge9)\n",
    "\n",
    "    global_avgpool10 = GlobalAveragePooling2D()(conv10)\n",
    "    flatten = Flatten()(global_avgpool10)\n",
    "    #dense = Dense(400)(flatten)\n",
    "    #dense = Activation('relu')(dense)\n",
    "    dense = Dense(3)(flatten)\n",
    "    return Model(inputs=input_img, outputs=dense)\n",
    "    "
   ]
  },
  {
   "cell_type": "code",
   "execution_count": 29,
   "id": "be00da77",
   "metadata": {},
   "outputs": [],
   "source": [
    "from keras.models import Model\n",
    "model = SqueezeNet()"
   ]
  },
  {
   "cell_type": "code",
   "execution_count": 26,
   "id": "1c2b5aa1",
   "metadata": {},
   "outputs": [],
   "source": [
    "def disspersion(y_true, y_pred):\n",
    "    delta = tf.math.acos(tf.clip_by_value(tf.math.reduce_sum(tf.math.multiply(y_true ,y_pred))/(tf.norm(y_true)*tf.norm(y_true)),-1,1))*180/3.14159265359\n",
    "    squared_difference = tf.square(delta)\n",
    "    return tf.sqrt(tf.reduce_mean(squared_difference))"
   ]
  },
  {
   "cell_type": "code",
   "execution_count": 33,
   "id": "a60b3eea",
   "metadata": {},
   "outputs": [],
   "source": [
    "import keras.backend as K\n",
    "class ReduceLR(keras.callbacks.Callback):\n",
    "    def on_batch_end(self, batch, logs=[]):\n",
    "        if K.eval(self.model.optimizer.iterations) >= 50:\n",
    "            K.set_value(self.model.optimizer.lr, 1e-4)\n",
    "reduce_lr = ReduceLR()"
   ]
  },
  {
   "cell_type": "code",
   "execution_count": 34,
   "id": "cbcdce2d",
   "metadata": {
    "scrolled": true
   },
   "outputs": [
    {
     "name": "stdout",
     "output_type": "stream",
     "text": [
      "Epoch 1/100\n",
      "1772/1772 [==============================] - 41s 22ms/step - loss: 0.0551 - cosine_similarity: 0.9800 - disspersion: 20.4436 - val_loss: 0.0264 - val_cosine_similarity: 0.9896 - val_disspersion: 14.7739\n",
      "Epoch 2/100\n",
      "1772/1772 [==============================] - 39s 22ms/step - loss: 0.0340 - cosine_similarity: 0.9820 - disspersion: 10.2279 - val_loss: 0.0322 - val_cosine_similarity: 0.9893 - val_disspersion: 19.9329 loss: 0.0335 - cosine_sim\n",
      "Epoch 3/100\n",
      "1772/1772 [==============================] - 38s 22ms/step - loss: 0.0336 - cosine_similarity: 0.9819 - disspersion: 10.1409 - val_loss: 0.0255 - val_cosine_similarity: 0.9896 - val_disspersion: 3.8366\n",
      "Epoch 4/100\n",
      "1772/1772 [==============================] - 39s 22ms/step - loss: 0.0329 - cosine_similarity: 0.9819 - disspersion: 9.8646 - val_loss: 0.0242 - val_cosine_similarity: 0.9896 - val_disspersion: 5.9696\n",
      "Epoch 5/100\n",
      "1772/1772 [==============================] - 39s 22ms/step - loss: 0.0328 - cosine_similarity: 0.9819 - disspersion: 9.7317 - val_loss: 0.0239 - val_cosine_similarity: 0.9895 - val_disspersion: 8.6093\n",
      "Epoch 6/100\n",
      "1772/1772 [==============================] - 38s 22ms/step - loss: 0.0325 - cosine_similarity: 0.9818 - disspersion: 9.8069 - val_loss: 0.0236 - val_cosine_similarity: 0.9895 - val_disspersion: 7.3150\n",
      "Epoch 7/100\n",
      "1772/1772 [==============================] - 38s 22ms/step - loss: 0.0318 - cosine_similarity: 0.9831 - disspersion: 8.1274 - val_loss: 0.0240 - val_cosine_similarity: 0.9903 - val_disspersion: 4.6522310 - cosine_similarity: 0.9841 - d - ETA: 2s - loss: 0.0312 - cos\n",
      "Epoch 8/100\n",
      "1772/1772 [==============================] - 39s 22ms/step - loss: 0.0309 - cosine_similarity: 0.9841 - disspersion: 6.5809 - val_loss: 0.0243 - val_cosine_similarity: 0.9903 - val_disspersion: 4.1496\n",
      "Epoch 9/100\n",
      "1772/1772 [==============================] - 39s 22ms/step - loss: 0.0299 - cosine_similarity: 0.9847 - disspersion: 5.8617 - val_loss: 0.0224 - val_cosine_similarity: 0.9909 - val_disspersion: 6.896094 - cosine_similarity: 0.9853 \n",
      "Epoch 10/100\n",
      "1772/1772 [==============================] - 39s 22ms/step - loss: 0.0295 - cosine_similarity: 0.9852 - disspersion: 5.7075 - val_loss: 0.0241 - val_cosine_similarity: 0.9894 - val_disspersion: 9.1564\n",
      "Epoch 11/100\n",
      "1772/1772 [==============================] - 39s 22ms/step - loss: 0.0314 - cosine_similarity: 0.9836 - disspersion: 7.9947 - val_loss: 0.0245 - val_cosine_similarity: 0.9903 - val_disspersion: 8.7162\n",
      "Epoch 12/100\n",
      "1772/1772 [==============================] - 39s 22ms/step - loss: 0.0295 - cosine_similarity: 0.9856 - disspersion: 5.8785 - val_loss: 0.0222 - val_cosine_similarity: 0.9916 - val_disspersion: 6.6440\n",
      "Epoch 13/100\n",
      "1772/1772 [==============================] - 39s 22ms/step - loss: 0.0284 - cosine_similarity: 0.9863 - disspersion: 5.1673 - val_loss: 0.0225 - val_cosine_similarity: 0.9915 - val_disspersion: 5.0798\n",
      "Epoch 14/100\n",
      "1772/1772 [==============================] - 39s 22ms/step - loss: 0.0280 - cosine_similarity: 0.9869 - disspersion: 4.9887 - val_loss: 0.0219 - val_cosine_similarity: 0.9920 - val_disspersion: 2.2794\n",
      "Epoch 15/100\n",
      "1772/1772 [==============================] - 38s 22ms/step - loss: 0.0274 - cosine_similarity: 0.9874 - disspersion: 4.8779 - val_loss: 0.0218 - val_cosine_similarity: 0.9924 - val_disspersion: 5.2938\n",
      "Epoch 16/100\n",
      "1772/1772 [==============================] - 38s 21ms/step - loss: 0.0268 - cosine_similarity: 0.9879 - disspersion: 4.7589 - val_loss: 0.0209 - val_cosine_similarity: 0.9926 - val_disspersion: 5.0805\n",
      "Epoch 17/100\n",
      "1772/1772 [==============================] - 38s 21ms/step - loss: 0.0261 - cosine_similarity: 0.9885 - disspersion: 4.6000 - val_loss: 0.0212 - val_cosine_similarity: 0.9926 - val_disspersion: 7.8399loss: 0.0260 - cosine_similarity: 0.9886 - disspersion\n",
      "Epoch 18/100\n",
      "1772/1772 [==============================] - 38s 22ms/step - loss: 0.0257 - cosine_similarity: 0.9890 - disspersion: 4.5851 - val_loss: 0.0212 - val_cosine_similarity: 0.9932 - val_disspersion: 2.1959\n",
      "Epoch 19/100\n",
      "1772/1772 [==============================] - 39s 22ms/step - loss: 0.0252 - cosine_similarity: 0.9896 - disspersion: 4.5128 - val_loss: 0.0210 - val_cosine_similarity: 0.9930 - val_disspersion: 7.6462\n",
      "Epoch 20/100\n",
      "1772/1772 [==============================] - 39s 22ms/step - loss: 0.0247 - cosine_similarity: 0.9901 - disspersion: 4.3192 - val_loss: 0.0215 - val_cosine_similarity: 0.9937 - val_disspersion: 1.2785\n",
      "Epoch 21/100\n",
      "1772/1772 [==============================] - 39s 22ms/step - loss: 0.0240 - cosine_similarity: 0.9907 - disspersion: 4.4250 - val_loss: 0.0199 - val_cosine_similarity: 0.9940 - val_disspersion: 8.0605\n",
      "Epoch 22/100\n",
      "1772/1772 [==============================] - 39s 22ms/step - loss: 0.0235 - cosine_similarity: 0.9913 - disspersion: 4.3263 - val_loss: 0.0194 - val_cosine_similarity: 0.9943 - val_disspersion: 7.5818\n",
      "Epoch 23/100\n",
      "1772/1772 [==============================] - 39s 22ms/step - loss: 0.0231 - cosine_similarity: 0.9918 - disspersion: 4.5180 - val_loss: 0.0196 - val_cosine_similarity: 0.9942 - val_disspersion: 4.0845\n",
      "Epoch 24/100\n",
      "1772/1772 [==============================] - 40s 23ms/step - loss: 0.0223 - cosine_similarity: 0.9924 - disspersion: 4.3657 - val_loss: 0.0191 - val_cosine_similarity: 0.9947 - val_disspersion: 7.2748\n",
      "Epoch 25/100\n",
      "1772/1772 [==============================] - 39s 22ms/step - loss: 0.0219 - cosine_similarity: 0.9929 - disspersion: 4.2602 - val_loss: 0.0204 - val_cosine_similarity: 0.9946 - val_disspersion: 1.9220\n",
      "Epoch 26/100\n",
      "1772/1772 [==============================] - 39s 22ms/step - loss: 0.0213 - cosine_similarity: 0.9934 - disspersion: 4.3902 - val_loss: 0.0184 - val_cosine_similarity: 0.9953 - val_disspersion: 4.1123\n",
      "Epoch 27/100\n",
      "1772/1772 [==============================] - 38s 22ms/step - loss: 0.0207 - cosine_similarity: 0.9940 - disspersion: 4.1183 - val_loss: 0.0185 - val_cosine_similarity: 0.9960 - val_disspersion: 4.7489\n",
      "Epoch 28/100\n",
      "1772/1772 [==============================] - 38s 22ms/step - loss: 0.0198 - cosine_similarity: 0.9947 - disspersion: 4.0967 - val_loss: 0.0173 - val_cosine_similarity: 0.9958 - val_disspersion: 2.5363\n",
      "Epoch 29/100\n",
      "1772/1772 [==============================] - 40s 22ms/step - loss: 0.0191 - cosine_similarity: 0.9953 - disspersion: 4.2017 - val_loss: 0.0178 - val_cosine_similarity: 0.9960 - val_disspersion: 7.6614\n",
      "Epoch 30/100\n",
      "1772/1772 [==============================] - 39s 22ms/step - loss: 0.0183 - cosine_similarity: 0.9957 - disspersion: 4.2096 - val_loss: 0.0174 - val_cosine_similarity: 0.9963 - val_disspersion: 9.3337\n",
      "Epoch 31/100\n",
      "1772/1772 [==============================] - 39s 22ms/step - loss: 0.0176 - cosine_similarity: 0.9963 - disspersion: 4.1293 - val_loss: 0.0168 - val_cosine_similarity: 0.9967 - val_disspersion: 1.9074loss: 0.0176 - cosine_similarity: 0.9963 - dis\n",
      "Epoch 32/100\n",
      "1772/1772 [==============================] - 39s 22ms/step - loss: 0.0166 - cosine_similarity: 0.9968 - disspersion: 4.1986 - val_loss: 0.0159 - val_cosine_similarity: 0.9974 - val_disspersion: 1.7854\n",
      "Epoch 33/100\n",
      "1772/1772 [==============================] - 39s 22ms/step - loss: 0.0155 - cosine_similarity: 0.9973 - disspersion: 4.3090 - val_loss: 0.0146 - val_cosine_similarity: 0.9977 - val_disspersion: 4.7774\n",
      "Epoch 34/100\n",
      "1772/1772 [==============================] - 40s 22ms/step - loss: 0.0144 - cosine_similarity: 0.9977 - disspersion: 4.3545 - val_loss: 0.0138 - val_cosine_similarity: 0.9977 - val_disspersion: 6.1501\n",
      "Epoch 35/100\n",
      "1772/1772 [==============================] - 40s 22ms/step - loss: 0.0130 - cosine_similarity: 0.9982 - disspersion: 4.0595 - val_loss: 0.0129 - val_cosine_similarity: 0.9981 - val_disspersion: 7.4052\n",
      "Epoch 36/100\n",
      "1772/1772 [==============================] - 40s 23ms/step - loss: 0.0124 - cosine_similarity: 0.9982 - disspersion: 3.9429 - val_loss: 0.0134 - val_cosine_similarity: 0.9977 - val_disspersion: 5.8098\n",
      "Epoch 37/100\n"
     ]
    },
    {
     "name": "stdout",
     "output_type": "stream",
     "text": [
      "1772/1772 [==============================] - 40s 22ms/step - loss: 0.0123 - cosine_similarity: 0.9983 - disspersion: 4.1527 - val_loss: 0.0135 - val_cosine_similarity: 0.9980 - val_disspersion: 7.4154 0.0124 - cosine_similarity: 0.9983 - dissp - ETA: 1s - loss: 0.0124 - cosine_similarity: 0.9983\n",
      "Epoch 38/100\n",
      "1772/1772 [==============================] - 39s 22ms/step - loss: 0.0116 - cosine_similarity: 0.9984 - disspersion: 3.9983 - val_loss: 0.0137 - val_cosine_similarity: 0.9975 - val_disspersion: 3.6570\n",
      "Epoch 39/100\n",
      "1772/1772 [==============================] - 40s 22ms/step - loss: 0.0111 - cosine_similarity: 0.9985 - disspersion: 3.9077 - val_loss: 0.0127 - val_cosine_similarity: 0.9980 - val_disspersion: 5.1224\n",
      "Epoch 40/100\n",
      "1772/1772 [==============================] - 39s 22ms/step - loss: 0.0113 - cosine_similarity: 0.9985 - disspersion: 3.7833 - val_loss: 0.0150 - val_cosine_similarity: 0.9970 - val_disspersion: 3.6730A: 0s - loss: 0.0113 - cosine_similarity: 0.9985 - disspersion: 3.78\n",
      "Epoch 41/100\n",
      "1772/1772 [==============================] - 39s 22ms/step - loss: 0.0118 - cosine_similarity: 0.9983 - disspersion: 4.0221 - val_loss: 0.0142 - val_cosine_similarity: 0.9972 - val_disspersion: 3.5164\n",
      "Epoch 42/100\n",
      "1772/1772 [==============================] - 38s 22ms/step - loss: 0.0113 - cosine_similarity: 0.9984 - disspersion: 3.7328 - val_loss: 0.0120 - val_cosine_similarity: 0.9980 - val_disspersion: 6.4077\n",
      "Epoch 43/100\n",
      "1772/1772 [==============================] - 39s 22ms/step - loss: 0.0110 - cosine_similarity: 0.9985 - disspersion: 3.8855 - val_loss: 0.0120 - val_cosine_similarity: 0.9982 - val_disspersion: 3.1740\n",
      "Epoch 44/100\n",
      "1772/1772 [==============================] - 38s 22ms/step - loss: 0.0112 - cosine_similarity: 0.9984 - disspersion: 3.8160 - val_loss: 0.0126 - val_cosine_similarity: 0.9978 - val_disspersion: 7.2438\n",
      "Epoch 45/100\n",
      "1772/1772 [==============================] - 38s 22ms/step - loss: 0.0110 - cosine_similarity: 0.9986 - disspersion: 3.6264 - val_loss: 0.0128 - val_cosine_similarity: 0.9980 - val_disspersion: 6.5761\n",
      "Epoch 46/100\n",
      "1772/1772 [==============================] - 38s 22ms/step - loss: 0.0110 - cosine_similarity: 0.9986 - disspersion: 3.6218 - val_loss: 0.0118 - val_cosine_similarity: 0.9981 - val_disspersion: 2.7013\n",
      "Epoch 47/100\n",
      "1772/1772 [==============================] - 38s 22ms/step - loss: 0.0110 - cosine_similarity: 0.9986 - disspersion: 3.8905 - val_loss: 0.0127 - val_cosine_similarity: 0.9978 - val_disspersion: 2.7362\n",
      "Epoch 48/100\n",
      "1772/1772 [==============================] - 38s 21ms/step - loss: 0.0111 - cosine_similarity: 0.9985 - disspersion: 3.6747 - val_loss: 0.0129 - val_cosine_similarity: 0.9980 - val_disspersion: 1.9743\n",
      "Epoch 49/100\n",
      "1772/1772 [==============================] - 38s 21ms/step - loss: 0.0109 - cosine_similarity: 0.9986 - disspersion: 3.6447 - val_loss: 0.0122 - val_cosine_similarity: 0.9982 - val_disspersion: 2.7288\n",
      "Epoch 50/100\n",
      "1772/1772 [==============================] - 38s 22ms/step - loss: 0.0108 - cosine_similarity: 0.9986 - disspersion: 3.6240 - val_loss: 0.0135 - val_cosine_similarity: 0.9978 - val_disspersion: 7.1402\n",
      "Epoch 51/100\n",
      "1772/1772 [==============================] - 38s 22ms/step - loss: 0.0106 - cosine_similarity: 0.9987 - disspersion: 3.8724 - val_loss: 0.0126 - val_cosine_similarity: 0.9981 - val_disspersion: 6.3084\n",
      "Epoch 52/100\n",
      "1772/1772 [==============================] - 37s 21ms/step - loss: 0.0105 - cosine_similarity: 0.9987 - disspersion: 3.7733 - val_loss: 0.0117 - val_cosine_similarity: 0.9982 - val_disspersion: 2.3027\n",
      "Epoch 53/100\n",
      "1772/1772 [==============================] - 37s 21ms/step - loss: 0.0106 - cosine_similarity: 0.9987 - disspersion: 3.6607 - val_loss: 0.0118 - val_cosine_similarity: 0.9982 - val_disspersion: 2.9799\n",
      "Epoch 54/100\n",
      "1772/1772 [==============================] - 37s 21ms/step - loss: 0.0106 - cosine_similarity: 0.9987 - disspersion: 3.5866 - val_loss: 0.0128 - val_cosine_similarity: 0.9981 - val_disspersion: 6.1290\n",
      "Epoch 55/100\n",
      "1772/1772 [==============================] - 37s 21ms/step - loss: 0.0109 - cosine_similarity: 0.9986 - disspersion: 3.8305 - val_loss: 0.0135 - val_cosine_similarity: 0.9978 - val_disspersion: 3.2576\n",
      "Epoch 56/100\n",
      "1772/1772 [==============================] - 38s 21ms/step - loss: 0.0106 - cosine_similarity: 0.9986 - disspersion: 3.6667 - val_loss: 0.0127 - val_cosine_similarity: 0.9981 - val_disspersion: 1.6706\n",
      "Epoch 57/100\n",
      "1772/1772 [==============================] - 39s 22ms/step - loss: 0.0105 - cosine_similarity: 0.9986 - disspersion: 3.5341 - val_loss: 0.0128 - val_cosine_similarity: 0.9977 - val_disspersion: 3.1820\n",
      "Epoch 58/100\n",
      "1772/1772 [==============================] - 39s 22ms/step - loss: 0.0108 - cosine_similarity: 0.9985 - disspersion: 3.7145 - val_loss: 0.0130 - val_cosine_similarity: 0.9978 - val_disspersion: 1.9400\n",
      "Epoch 59/100\n",
      "1772/1772 [==============================] - 39s 22ms/step - loss: 0.0105 - cosine_similarity: 0.9987 - disspersion: 3.5715 - val_loss: 0.0114 - val_cosine_similarity: 0.9982 - val_disspersion: 3.4895\n",
      "Epoch 60/100\n",
      "1772/1772 [==============================] - 38s 21ms/step - loss: 0.0108 - cosine_similarity: 0.9985 - disspersion: 3.5980 - val_loss: 0.0112 - val_cosine_similarity: 0.9984 - val_disspersion: 3.1960\n",
      "Epoch 61/100\n",
      "1772/1772 [==============================] - 39s 22ms/step - loss: 0.0106 - cosine_similarity: 0.9986 - disspersion: 3.5785 - val_loss: 0.0119 - val_cosine_similarity: 0.9982 - val_disspersion: 2.8203\n",
      "Epoch 62/100\n",
      "1772/1772 [==============================] - 39s 22ms/step - loss: 0.0104 - cosine_similarity: 0.9986 - disspersion: 3.5457 - val_loss: 0.0121 - val_cosine_similarity: 0.9982 - val_disspersion: 4.8574\n",
      "Epoch 63/100\n",
      "1772/1772 [==============================] - 38s 22ms/step - loss: 0.0108 - cosine_similarity: 0.9986 - disspersion: 3.6643 - val_loss: 0.0120 - val_cosine_similarity: 0.9981 - val_disspersion: 6.2727\n",
      "Epoch 64/100\n",
      "1772/1772 [==============================] - 39s 22ms/step - loss: 0.0104 - cosine_similarity: 0.9987 - disspersion: 3.7931 - val_loss: 0.0135 - val_cosine_similarity: 0.9978 - val_disspersion: 2.8918\n",
      "Epoch 65/100\n",
      "1772/1772 [==============================] - 39s 22ms/step - loss: 0.0107 - cosine_similarity: 0.9986 - disspersion: 3.6720 - val_loss: 0.0122 - val_cosine_similarity: 0.9980 - val_disspersion: 4.5237\n",
      "Epoch 66/100\n",
      "1772/1772 [==============================] - 39s 22ms/step - loss: 0.0107 - cosine_similarity: 0.9986 - disspersion: 3.6508 - val_loss: 0.0117 - val_cosine_similarity: 0.9983 - val_disspersion: 4.8200\n",
      "Epoch 67/100\n",
      "1772/1772 [==============================] - 39s 22ms/step - loss: 0.0105 - cosine_similarity: 0.9987 - disspersion: 3.7135 - val_loss: 0.0116 - val_cosine_similarity: 0.9982 - val_disspersion: 2.9133\n",
      "Epoch 68/100\n",
      "1772/1772 [==============================] - 39s 22ms/step - loss: 0.0109 - cosine_similarity: 0.9985 - disspersion: 3.5824 - val_loss: 0.0120 - val_cosine_similarity: 0.9982 - val_disspersion: 2.3498\n",
      "Epoch 69/100\n",
      "1772/1772 [==============================] - 39s 22ms/step - loss: 0.0101 - cosine_similarity: 0.9988 - disspersion: 3.8021 - val_loss: 0.0125 - val_cosine_similarity: 0.9978 - val_disspersion: 3.8821\n",
      "Epoch 70/100\n",
      "1772/1772 [==============================] - 38s 22ms/step - loss: 0.0104 - cosine_similarity: 0.9987 - disspersion: 3.4910 - val_loss: 0.0119 - val_cosine_similarity: 0.9981 - val_disspersion: 2.1138\n",
      "Epoch 71/100\n",
      "1772/1772 [==============================] - 39s 22ms/step - loss: 0.0104 - cosine_similarity: 0.9987 - disspersion: 3.5663 - val_loss: 0.0127 - val_cosine_similarity: 0.9980 - val_disspersion: 3.7387\n",
      "Epoch 72/100\n",
      "1772/1772 [==============================] - 39s 22ms/step - loss: 0.0104 - cosine_similarity: 0.9987 - disspersion: 3.7186 - val_loss: 0.0148 - val_cosine_similarity: 0.9968 - val_disspersion: 2.4198\n",
      "Epoch 73/100\n",
      "1772/1772 [==============================] - 39s 22ms/step - loss: 0.0105 - cosine_similarity: 0.9986 - disspersion: 3.6276 - val_loss: 0.0120 - val_cosine_similarity: 0.9983 - val_disspersion: 6.7506\n",
      "Epoch 74/100\n"
     ]
    },
    {
     "name": "stdout",
     "output_type": "stream",
     "text": [
      "1772/1772 [==============================] - 38s 22ms/step - loss: 0.0101 - cosine_similarity: 0.9988 - disspersion: 3.5212 - val_loss: 0.0115 - val_cosine_similarity: 0.9982 - val_disspersion: 4.0632: 0.0102 - cosine_similar\n",
      "Epoch 75/100\n",
      "1772/1772 [==============================] - 39s 22ms/step - loss: 0.0105 - cosine_similarity: 0.9986 - disspersion: 3.6922 - val_loss: 0.0115 - val_cosine_similarity: 0.9984 - val_disspersion: 1.7480\n",
      "Epoch 76/100\n",
      "1772/1772 [==============================] - 38s 21ms/step - loss: 0.0103 - cosine_similarity: 0.9988 - disspersion: 3.8011 - val_loss: 0.0117 - val_cosine_similarity: 0.9982 - val_disspersion: 3.2724\n",
      "Epoch 77/100\n",
      "1772/1772 [==============================] - 37s 21ms/step - loss: 0.0103 - cosine_similarity: 0.9987 - disspersion: 3.4922 - val_loss: 0.0118 - val_cosine_similarity: 0.9981 - val_disspersion: 2.6182\n",
      "Epoch 78/100\n",
      "1772/1772 [==============================] - 38s 21ms/step - loss: 0.0104 - cosine_similarity: 0.9987 - disspersion: 3.5973 - val_loss: 0.0117 - val_cosine_similarity: 0.9982 - val_disspersion: 6.1133\n",
      "Epoch 79/100\n",
      "1772/1772 [==============================] - 38s 22ms/step - loss: 0.0103 - cosine_similarity: 0.9987 - disspersion: 3.5798 - val_loss: 0.0123 - val_cosine_similarity: 0.9980 - val_disspersion: 2.4362\n",
      "Epoch 80/100\n",
      "1772/1772 [==============================] - 38s 21ms/step - loss: 0.0100 - cosine_similarity: 0.9988 - disspersion: 3.3469 - val_loss: 0.0125 - val_cosine_similarity: 0.9979 - val_disspersion: 2.5306\n",
      "Epoch 81/100\n",
      "1772/1772 [==============================] - 38s 21ms/step - loss: 0.0100 - cosine_similarity: 0.9988 - disspersion: 3.5125 - val_loss: 0.0131 - val_cosine_similarity: 0.9981 - val_disspersion: 4.0702\n",
      "Epoch 82/100\n",
      "1772/1772 [==============================] - 38s 21ms/step - loss: 0.0102 - cosine_similarity: 0.9987 - disspersion: 3.5178 - val_loss: 0.0129 - val_cosine_similarity: 0.9979 - val_disspersion: 5.6832\n",
      "Epoch 83/100\n",
      "1772/1772 [==============================] - 38s 21ms/step - loss: 0.0101 - cosine_similarity: 0.9988 - disspersion: 3.4759 - val_loss: 0.0114 - val_cosine_similarity: 0.9984 - val_disspersion: 6.2544\n",
      "Epoch 84/100\n",
      "1772/1772 [==============================] - 38s 22ms/step - loss: 0.0100 - cosine_similarity: 0.9988 - disspersion: 3.5950 - val_loss: 0.0111 - val_cosine_similarity: 0.9983 - val_disspersion: 3.0474\n",
      "Epoch 85/100\n",
      "1772/1772 [==============================] - 39s 22ms/step - loss: 0.0099 - cosine_similarity: 0.9988 - disspersion: 3.4975 - val_loss: 0.0119 - val_cosine_similarity: 0.9982 - val_disspersion: 2.2321\n",
      "Epoch 86/100\n",
      "1772/1772 [==============================] - 39s 22ms/step - loss: 0.0098 - cosine_similarity: 0.9988 - disspersion: 3.3558 - val_loss: 0.0117 - val_cosine_similarity: 0.9984 - val_disspersion: 1.5945\n",
      "Epoch 87/100\n",
      "1772/1772 [==============================] - 39s 22ms/step - loss: 0.0100 - cosine_similarity: 0.9988 - disspersion: 3.4855 - val_loss: 0.0117 - val_cosine_similarity: 0.9982 - val_disspersion: 3.7130\n",
      "Epoch 88/100\n",
      "1772/1772 [==============================] - 39s 22ms/step - loss: 0.0101 - cosine_similarity: 0.9987 - disspersion: 3.4816 - val_loss: 0.0118 - val_cosine_similarity: 0.9982 - val_disspersion: 3.3905s: 0.0101 - cosine_similarity: 0.9987 - disspersi\n",
      "Epoch 89/100\n",
      "1772/1772 [==============================] - 39s 22ms/step - loss: 0.0101 - cosine_similarity: 0.9987 - disspersion: 3.5246 - val_loss: 0.0116 - val_cosine_similarity: 0.9984 - val_disspersion: 5.9136\n",
      "Epoch 90/100\n",
      "1772/1772 [==============================] - 39s 22ms/step - loss: 0.0102 - cosine_similarity: 0.9988 - disspersion: 3.6006 - val_loss: 0.0120 - val_cosine_similarity: 0.9980 - val_disspersion: 5.3388\n",
      "Epoch 91/100\n",
      "1772/1772 [==============================] - 39s 22ms/step - loss: 0.0102 - cosine_similarity: 0.9987 - disspersion: 3.6669 - val_loss: 0.0113 - val_cosine_similarity: 0.9984 - val_disspersion: 2.1604\n",
      "Epoch 92/100\n",
      "1772/1772 [==============================] - 39s 22ms/step - loss: 0.0101 - cosine_similarity: 0.9988 - disspersion: 3.6236 - val_loss: 0.0117 - val_cosine_similarity: 0.9982 - val_disspersion: 4.5234\n",
      "Epoch 93/100\n",
      "1772/1772 [==============================] - 39s 22ms/step - loss: 0.0103 - cosine_similarity: 0.9987 - disspersion: 3.6786 - val_loss: 0.0138 - val_cosine_similarity: 0.9978 - val_disspersion: 2.7337\n",
      "Epoch 94/100\n",
      "1772/1772 [==============================] - 39s 22ms/step - loss: 0.0100 - cosine_similarity: 0.9988 - disspersion: 3.5060 - val_loss: 0.0111 - val_cosine_similarity: 0.9984 - val_disspersion: 2.23170.9988 - disspe\n",
      "Epoch 95/100\n",
      "1772/1772 [==============================] - 39s 22ms/step - loss: 0.0098 - cosine_similarity: 0.9988 - disspersion: 3.5983 - val_loss: 0.0115 - val_cosine_similarity: 0.9983 - val_disspersion: 1.8133\n",
      "Epoch 96/100\n",
      "1772/1772 [==============================] - 39s 22ms/step - loss: 0.0098 - cosine_similarity: 0.9988 - disspersion: 3.4721 - val_loss: 0.0120 - val_cosine_similarity: 0.9983 - val_disspersion: 2.0757\n",
      "Epoch 97/100\n",
      "1772/1772 [==============================] - 39s 22ms/step - loss: 0.0099 - cosine_similarity: 0.9989 - disspersion: 3.5752 - val_loss: 0.0115 - val_cosine_similarity: 0.9985 - val_disspersion: 1.1680\n",
      "Epoch 98/100\n",
      "1772/1772 [==============================] - 39s 22ms/step - loss: 0.0100 - cosine_similarity: 0.9988 - disspersion: 3.5365 - val_loss: 0.0133 - val_cosine_similarity: 0.9978 - val_disspersion: 5.8299\n",
      "Epoch 99/100\n",
      "1772/1772 [==============================] - 39s 22ms/step - loss: 0.0097 - cosine_similarity: 0.9989 - disspersion: 3.6839 - val_loss: 0.0118 - val_cosine_similarity: 0.9982 - val_disspersion: 2.0129\n",
      "Epoch 100/100\n",
      "1772/1772 [==============================] - 39s 22ms/step - loss: 0.0099 - cosine_similarity: 0.9988 - disspersion: 3.3776 - val_loss: 0.0113 - val_cosine_similarity: 0.9982 - val_disspersion: 3.2985\n"
     ]
    }
   ],
   "source": [
    "model.compile(\n",
    "  optimizer=tf.keras.optimizers.Adam(\n",
    "    learning_rate=1e-7),\n",
    "  loss='mae',\n",
    "  metrics=[tf.keras.metrics.CosineSimilarity(axis=1), disspersion],\n",
    "  \n",
    ")\n",
    "#callback = tf.keras.callbacks.EarlyStopping(monitor='loss', patience=3,min_delta=0.0001)\n",
    "history = model.fit(\n",
    "    train_dataset,\n",
    "    validation_data=test_dataset,\n",
    "    epochs=100,\n",
    "    callbacks=[reduce_lr]\n",
    ")"
   ]
  },
  {
   "cell_type": "code",
   "execution_count": 35,
   "id": "693cf469-716c-4677-a03a-dc9efc356d68",
   "metadata": {},
   "outputs": [],
   "source": [
    "model.save(\"fc4\",  save_format='h5')"
   ]
  },
  {
   "cell_type": "code",
   "execution_count": 38,
   "id": "1089cc23",
   "metadata": {},
   "outputs": [],
   "source": [
    "from keras.utils.generic_utils import get_custom_objects\n",
    "get_custom_objects().update({\"disspersion\": disspersion})"
   ]
  },
  {
   "cell_type": "code",
   "execution_count": 39,
   "id": "de8f91de",
   "metadata": {},
   "outputs": [],
   "source": [
    "model = keras.models.load_model('./fc4')"
   ]
  },
  {
   "cell_type": "code",
   "execution_count": null,
   "id": "4f4d66ac",
   "metadata": {},
   "outputs": [],
   "source": []
  }
 ],
 "metadata": {
  "kernelspec": {
   "display_name": "Python 3 (ipykernel)",
   "language": "python",
   "name": "python3"
  },
  "language_info": {
   "codemirror_mode": {
    "name": "ipython",
    "version": 3
   },
   "file_extension": ".py",
   "mimetype": "text/x-python",
   "name": "python",
   "nbconvert_exporter": "python",
   "pygments_lexer": "ipython3",
   "version": "3.9.7"
  }
 },
 "nbformat": 4,
 "nbformat_minor": 5
}
